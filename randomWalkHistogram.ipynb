{
 "cells": [
  {
   "cell_type": "code",
   "execution_count": null,
   "metadata": {},
   "outputs": [],
   "source": [
    "import matplotlib.pyplot as plt\n",
    "import math\n",
    "from typing import Callable\n",
    "import sys\n",
    "sys.path.append(\"../lib\")\n",
    "from pylib import pltInit,Point,DataFile"
   ]
  },
  {
   "cell_type": "code",
   "execution_count": null,
   "metadata": {},
   "outputs": [],
   "source": [
    "def gauss(x:float,m:float,sigma:float)->float:\n",
    "    return (1/math.sqrt(2*math.pi)/sigma)*math.exp(-(x-m)*(x-m)/2/sigma/sigma)"
   ]
  },
  {
   "cell_type": "code",
   "execution_count": null,
   "metadata": {},
   "outputs": [],
   "source": [
    "def drawHistogram(keyword:str,xmin:float,xmax:float,mean:float,sigma:float,n=1024,w=1.5,t=1000):\n",
    "    input = keyword + '-output-100000.txt'\n",
    "    xl,yl = DataFile(input).readData()\n",
    "    plt.figure(figsize=(18,12),facecolor='white')\n",
    "    plt.bar(xl,yl,w)\n",
    "    plt.title('Histogram for '+keyword+f' Case ($t={t}$)')\n",
    "    plt.xlabel('$x$')\n",
    "    xl = [(xmax - xmin)*x/n + xmin for x in range(n)]\n",
    "    yl = [gauss(x,mean,sigma) for x in xl]\n",
    "    plt.plot(xl,yl,c='r',linewidth=2)\n",
    "    plt.savefig(keyword+'.pdf')"
   ]
  },
  {
   "cell_type": "code",
   "execution_count": null,
   "metadata": {},
   "outputs": [],
   "source": [
    "t=1000\n",
    "pltInit()\n",
    "#drawHistogram('Fundamental',-150,150,0,math.sqrt(t))\n",
    "#drawHistogram('Uniform',-40,40,0,math.sqrt(t/12),w=.8)\n",
    "#s=math.sqrt(1-math.e/math.pow(math.e-1,2))\n",
    "#drawHistogram('Exponential',380,460,t*(1-1/(math.e-1)),math.sqrt(t)*s,w=.8)\n",
    "drawHistogram('ExampleRandom2023',-1,1,0,4./15)"
   ]
  }
 ],
 "metadata": {
  "kernelspec": {
   "display_name": "myenv",
   "language": "python",
   "name": "python3"
  },
  "language_info": {
   "codemirror_mode": {
    "name": "ipython",
    "version": 3
   },
   "file_extension": ".py",
   "mimetype": "text/x-python",
   "name": "python",
   "nbconvert_exporter": "python",
   "pygments_lexer": "ipython3",
   "version": "3.10.8"
  },
  "orig_nbformat": 4,
  "vscode": {
   "interpreter": {
    "hash": "b3b804b6b7a7d9b475cf928428dd1242016eacc24c47853aaf0f8d1d2228aa39"
   }
  }
 },
 "nbformat": 4,
 "nbformat_minor": 2
}
